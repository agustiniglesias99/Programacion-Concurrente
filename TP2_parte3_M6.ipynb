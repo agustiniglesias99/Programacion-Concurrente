{
  "nbformat": 4,
  "nbformat_minor": 0,
  "metadata": {
    "colab": {
      "provenance": [],
      "gpuType": "T4",
      "include_colab_link": true
    },
    "kernelspec": {
      "name": "python3",
      "display_name": "Python 3"
    },
    "language_info": {
      "name": "python"
    },
    "accelerator": "GPU"
  },
  "cells": [
    {
      "cell_type": "markdown",
      "metadata": {
        "id": "view-in-github",
        "colab_type": "text"
      },
      "source": [
        "<a href=\"https://colab.research.google.com/github/agustiniglesias99/Programacion-Concurrente/blob/main/TP2_parte3_M6.ipynb\" target=\"_parent\"><img src=\"https://colab.research.google.com/assets/colab-badge.svg\" alt=\"Open In Colab\"/></a>"
      ]
    },
    {
      "cell_type": "markdown",
      "source": [
        "#Trabajo Práctico GPU\n",
        "Este ejercicio se ha optado para aplicar 2 multidimensiones en GPU. El ejemplo modifica el color de una imagen parametrizada a escala de grises. El cálculo de la escala se realiza convirtiendo los 3 canales RGB, que representan a los colores R (rojo)-G(verde)-B(azul), de cada pixel siguiendo la ecuación:\n",
        "\n",
        "EL objetivo es enseñar el funcionamiento del Lenguaje Python, CUDA y el manejo de imágenes a bajo nivel. El ejemplo es ilustrativo, ya que internamente el módulo Pillow posee varios filtros integrados."
      ],
      "metadata": {
        "id": "TuXdSNRD8e7-"
      }
    },
    {
      "cell_type": "markdown",
      "source": [
        "##1. Preguntas del TP\n",
        "\n",
        "\n",
        "Tips: Para saber cual es el tamaño maximo de la configuración soportado por la GPU ejecute el siguiente comando:"
      ],
      "metadata": {
        "id": "Q-zU_hZy8mit"
      }
    },
    {
      "cell_type": "code",
      "execution_count": null,
      "metadata": {
        "colab": {
          "base_uri": "https://localhost:8080/"
        },
        "id": "yFXgIKwqz4FI",
        "outputId": "d9f7335a-2a2b-42e8-deb5-2de139f313cc"
      },
      "outputs": [
        {
          "output_type": "stream",
          "name": "stdout",
          "text": [
            "fatal: destination path 'cuda-samples' already exists and is not an empty directory.\n",
            "  Max dimension size of a thread block (x,y,z): (1024, 1024, 64)\n",
            "  Max dimension size of a grid size    (x,y,z): (2147483647, 65535, 65535)\n"
          ]
        }
      ],
      "source": [
        "!git clone https://github.com/NVIDIA/cuda-samples.git\n",
        "!cd  cuda-samples/Samples/1_Utilities/deviceQuery/; make >/dev/null\n",
        "!cuda-samples/Samples/1_Utilities/deviceQuery/deviceQuery | grep \"Max dimension\""
      ]
    },
    {
      "cell_type": "markdown",
      "source": [
        "g)En el punto anterior ¿Qué sucedio al medir el tiempo con máximo de Threads soportados por la GPU?\n",
        "\n",
        "h) Mida el tiempo de respuesta que tiene el algoritmo con la dimension \"X\" en su maxima capacidad y el resto en 1 (ej:(1024,1,1)). Luego modifique la configuración para que la dimension \"Y\" tenga su maxima capacidad y el resto en 1.(ej:(1,1024,1)) Compare los resultado. ¿A que cree que se debe la diferencia de tiempo?\n",
        "\n",
        "i) ¿Qué cambios realizaría para que solo se procese la parte derecha de la imagen? ¿Qué sucede con la parte izquierda en la imagen resultante? ¿Qué sucede con la velocidad de respuesta?"
      ],
      "metadata": {
        "id": "oClWflyNsmz0"
      }
    },
    {
      "cell_type": "markdown",
      "source": [
        "##2 Armado del ambiente\n",
        "\n",
        "Toma la dirección web de una imagen con acceso público en internet, la deja disponible al contexto de ejecución del cuaderno Colab."
      ],
      "metadata": {
        "id": "z7-fRhEAsxMF"
      }
    },
    {
      "cell_type": "code",
      "source": [
        "#@title ### 2.1 Parámetros de ejecución\n",
        "#@markdown ---\n",
        "#@markdown ### Especifique la URL de la imagen:\n",
        "url_imagen = \"https://raw.githubusercontent.com/soa-pc-unlam/ProgramacionConcurrente/main/Enunciados%20TPs/TP-GPU/MesiCopa.jpg\" #@param {type:\"string\"}\n",
        "\n",
        "#@markdown ---\n",
        "# Leo la imagen desde internet.\n",
        "#!wget https://github.com/wvaliente/SOA_HPC/blob/main/unlam.jpg?raw=true -O imagen.jpg\n",
        "\n",
        "# TODO: Mejorar informaciòn y resutlado de ejecución.\n",
        "!wget {url_imagen} -O imagen.jpg"
      ],
      "metadata": {
        "id": "EmjmNskqs5TO",
        "colab": {
          "base_uri": "https://localhost:8080/"
        },
        "outputId": "5b7e2629-f61d-40b0-a12a-282d32855745"
      },
      "execution_count": null,
      "outputs": [
        {
          "output_type": "stream",
          "name": "stdout",
          "text": [
            "--2023-06-22 00:16:54--  https://raw.githubusercontent.com/soa-pc-unlam/ProgramacionConcurrente/main/Enunciados%20TPs/TP-GPU/MesiCopa.jpg\n",
            "Resolving raw.githubusercontent.com (raw.githubusercontent.com)... 185.199.108.133, 185.199.109.133, 185.199.110.133, ...\n",
            "Connecting to raw.githubusercontent.com (raw.githubusercontent.com)|185.199.108.133|:443... connected.\n",
            "HTTP request sent, awaiting response... 200 OK\n",
            "Length: 209591 (205K) [image/jpeg]\n",
            "Saving to: ‘imagen.jpg’\n",
            "\n",
            "imagen.jpg          100%[===================>] 204.68K  --.-KB/s    in 0.007s  \n",
            "\n",
            "2023-06-22 00:16:55 (30.0 MB/s) - ‘imagen.jpg’ saved [209591/209591]\n",
            "\n"
          ]
        }
      ]
    },
    {
      "cell_type": "markdown",
      "source": [
        "###2.2 Instala en el cuaderno el módulo CUDA de Python."
      ],
      "metadata": {
        "id": "tX23NDsptEIA"
      }
    },
    {
      "cell_type": "code",
      "source": [
        "!pip install pycuda"
      ],
      "metadata": {
        "id": "_1XedF93tGgD",
        "colab": {
          "base_uri": "https://localhost:8080/"
        },
        "outputId": "32cfe254-b97d-4e51-975f-89fe6c3e18b4"
      },
      "execution_count": null,
      "outputs": [
        {
          "output_type": "stream",
          "name": "stdout",
          "text": [
            "Looking in indexes: https://pypi.org/simple, https://us-python.pkg.dev/colab-wheels/public/simple/\n",
            "Collecting pycuda\n",
            "  Downloading pycuda-2022.2.2.tar.gz (1.7 MB)\n",
            "\u001b[2K     \u001b[90m━━━━━━━━━━━━━━━━━━━━━━━━━━━━━━━━━━━━━━━━\u001b[0m \u001b[32m1.7/1.7 MB\u001b[0m \u001b[31m78.2 MB/s\u001b[0m eta \u001b[36m0:00:00\u001b[0m\n",
            "\u001b[?25h  Installing build dependencies ... \u001b[?25l\u001b[?25hdone\n",
            "  Getting requirements to build wheel ... \u001b[?25l\u001b[?25hdone\n",
            "  Preparing metadata (pyproject.toml) ... \u001b[?25l\u001b[?25hdone\n",
            "Collecting pytools>=2011.2 (from pycuda)\n",
            "  Downloading pytools-2023.1-py2.py3-none-any.whl (70 kB)\n",
            "\u001b[2K     \u001b[90m━━━━━━━━━━━━━━━━━━━━━━━━━━━━━━━━━━━━━━━━\u001b[0m \u001b[32m70.4/70.4 kB\u001b[0m \u001b[31m8.1 MB/s\u001b[0m eta \u001b[36m0:00:00\u001b[0m\n",
            "\u001b[?25hRequirement already satisfied: appdirs>=1.4.0 in /usr/local/lib/python3.10/dist-packages (from pycuda) (1.4.4)\n",
            "Collecting mako (from pycuda)\n",
            "  Downloading Mako-1.2.4-py3-none-any.whl (78 kB)\n",
            "\u001b[2K     \u001b[90m━━━━━━━━━━━━━━━━━━━━━━━━━━━━━━━━━━━━━━━━\u001b[0m \u001b[32m78.7/78.7 kB\u001b[0m \u001b[31m11.9 MB/s\u001b[0m eta \u001b[36m0:00:00\u001b[0m\n",
            "\u001b[?25hRequirement already satisfied: platformdirs>=2.2.0 in /usr/local/lib/python3.10/dist-packages (from pytools>=2011.2->pycuda) (3.3.0)\n",
            "Requirement already satisfied: typing-extensions>=4.0 in /usr/local/lib/python3.10/dist-packages (from pytools>=2011.2->pycuda) (4.5.0)\n",
            "Requirement already satisfied: MarkupSafe>=0.9.2 in /usr/local/lib/python3.10/dist-packages (from mako->pycuda) (2.1.2)\n",
            "Building wheels for collected packages: pycuda\n",
            "  Building wheel for pycuda (pyproject.toml) ... \u001b[?25l\u001b[?25hdone\n",
            "  Created wheel for pycuda: filename=pycuda-2022.2.2-cp310-cp310-linux_x86_64.whl size=661975 sha256=a8afd1b2235004dfa3ec1d31213b4f08da70a36f1bb0fbed44392c4c12af36d7\n",
            "  Stored in directory: /root/.cache/pip/wheels/1d/7b/06/82a395a243fce00035dea9914d92bbef0013401497d849f8bc\n",
            "Successfully built pycuda\n",
            "Installing collected packages: pytools, mako, pycuda\n",
            "Successfully installed mako-1.2.4 pycuda-2022.2.2 pytools-2023.1\n"
          ]
        }
      ]
    },
    {
      "cell_type": "markdown",
      "source": [
        "###3 Desarrollo\n",
        "\n",
        "Ejecución del algoritmo escala de grises en GPU."
      ],
      "metadata": {
        "id": "UR1w2fkptJa2"
      }
    },
    {
      "cell_type": "code",
      "source": [
        "#Comentar esta linea para mostrar las imagenes\n",
        "%%writefile filter_image.py\n",
        "\n",
        "#Comentar esta linea para medir los tiempos\n",
        "#%matplotlib inline\n",
        "\n",
        "import matplotlib.pyplot as plt\n",
        "import numpy\n",
        "from PIL import Image\n",
        "import pycuda.driver as cuda\n",
        "import pycuda.autoinit\n",
        "from pycuda.compiler import SourceModule\n",
        "\n",
        "# -----------------------------------------------------------------------------\n",
        "img_nombre = 'imagen.jpg'\n",
        "image = Image.open( img_nombre )\n",
        "\n",
        "# summarize some details about the image\n",
        "img_ancho, img_alto  = image.size\n",
        "\n",
        "# -----------------------------------------------------------------------------\n",
        "img_O_cpu = numpy.asarray(image)\n",
        "img_O_cpu = img_O_cpu.astype( numpy.int32() )\n",
        "img_R_cpu = numpy.empty_like( img_O_cpu)\n",
        "\n",
        "img_O_gpu = cuda.mem_alloc( img_O_cpu.nbytes )\n",
        "img_R_gpu = cuda.mem_alloc( img_R_cpu.nbytes )\n",
        "\n",
        "cuda.memcpy_htod( img_O_gpu, img_O_cpu )\n",
        "cuda.memcpy_htod( img_R_gpu, img_R_cpu )\n",
        "\n",
        "# --------------------------------Escala de grises totalidad--------------------------------------------\n",
        "\n",
        "module = SourceModule(\"\"\"\n",
        "#define PIXEL_ROJO( x,y) (x+(y*ancho))*3\n",
        "#define PIXEL_VERDE(x,y) PIXEL_ROJO(x,y) + 1\n",
        "#define PIXEL_AZUL( x,y) PIXEL_ROJO(x,y) + 2\n",
        "\n",
        "__global__ void kernel_img( int ancho, int alto, int *img_O, int *img_R )\n",
        "{\n",
        "  // Calculo las coordenadas del Thread en dos dimensiones.\n",
        "  int idx = threadIdx.x + blockIdx.x*blockDim.x;\n",
        "  int idy = threadIdx.y + blockIdx.y*blockDim.y;\n",
        "  float fGris = 0.0;\n",
        "\n",
        "  // Verifico que los Thread, esten dentro de las dimensiones de la imagen.\n",
        "  if( idx < ancho && idy < alto)\n",
        "  {\n",
        "    // Calculo el color gris para el pixel a partir de los componentes.\n",
        "    fGris = (float)img_O[ PIXEL_ROJO(  idx, idy ) ]*0.29;  // Componente Rojo del pixel.\n",
        "    fGris +=(float)img_O[ PIXEL_VERDE( idx, idy ) ]*0.59;  // Componente Verde del pixel.\n",
        "    fGris +=(float)img_O[ PIXEL_AZUL(  idx, idy ) ]*0.11;  // Componente Azul del pixel.\n",
        "    // Escribo el color del pixel.\n",
        "    img_R[ PIXEL_ROJO(  idx, idy ) ] = (int) fGris;\n",
        "    img_R[ PIXEL_VERDE( idx, idy ) ] = (int) fGris;\n",
        "    img_R[ PIXEL_AZUL(  idx, idy ) ] = (int) fGris;\n",
        "\n",
        "  }\n",
        "}\n",
        "\"\"\")\n",
        "\n",
        "# --------------------------------Escala de grises solo derecha---------------------------------------------\n",
        "\n",
        "# module = SourceModule(\"\"\"\n",
        "# #define PIXEL_ROJO( x,y) (x+(y*ancho))*3\n",
        "# #define PIXEL_VERDE(x,y) PIXEL_ROJO(x,y) + 1\n",
        "# #define PIXEL_AZUL( x,y) PIXEL_ROJO(x,y) + 2\n",
        "\n",
        "# __global__ void kernel_img( int ancho, int alto, int *img_O, int *img_R )\n",
        "# {\n",
        "#   // Calculo las coordenadas del Thread en dos dimensiones.\n",
        "#   int idx = threadIdx.x + blockIdx.x*blockDim.x;\n",
        "#   int idy = threadIdx.y + blockIdx.y*blockDim.y;\n",
        "#   float fGris = 0.0;\n",
        "\n",
        "#   // Verifico que los Thread, esten dentro de las dimensiones de la imagen.\n",
        "#   if( idx < ancho && idy < alto)\n",
        "#   {\n",
        "#     if(idx > ancho/2)\n",
        "#     {\n",
        "#       // Calculo el color gris para el pixel a partir de los componentes.\n",
        "#       fGris = (float)img_O[ PIXEL_ROJO(  idx, idy ) ]*0.29;  // Componente Rojo del pixel.\n",
        "#       fGris +=(float)img_O[ PIXEL_VERDE( idx, idy ) ]*0.59;  // Componente Verde del pixel.\n",
        "#       fGris +=(float)img_O[ PIXEL_AZUL(  idx, idy ) ]*0.11;  // Componente Azul del pixel.\n",
        "#       // Escribo el color del pixel.\n",
        "#       img_R[ PIXEL_ROJO(  idx, idy ) ] = (int) fGris;\n",
        "#       img_R[ PIXEL_VERDE( idx, idy ) ] = (int) fGris;\n",
        "#       img_R[ PIXEL_AZUL(  idx, idy ) ] = (int) fGris;\n",
        "#     }\n",
        "#     else\n",
        "#     {\n",
        "#       // Escribo el color del pixel.\n",
        "#       img_R[ PIXEL_ROJO(  idx, idy ) ] = img_O[ PIXEL_ROJO(  idx, idy ) ];\n",
        "#       img_R[ PIXEL_VERDE( idx, idy ) ] = img_O[ PIXEL_VERDE( idx, idy ) ];\n",
        "#       img_R[ PIXEL_AZUL(  idx, idy ) ] = img_O[ PIXEL_AZUL(  idx, idy ) ];\n",
        "#     }\n",
        "#   }\n",
        "# }\n",
        "# \"\"\")\n",
        "\n",
        "#---------------------------------Inversion de colores------------------------------\n",
        "\n",
        "# module = SourceModule(\"\"\"\n",
        "# #define PIXEL_ROJO( x,y) (x+(y*ancho))*3\n",
        "# #define PIXEL_VERDE(x,y) PIXEL_ROJO(x,y) + 1\n",
        "# #define PIXEL_AZUL( x,y) PIXEL_ROJO(x,y) + 2\n",
        "\n",
        "# __global__ void kernel_img( int ancho, int alto, int *img_O, int *img_R )\n",
        "# {\n",
        "#   // Calculo las coordenadas del Thread en dos dimensiones.\n",
        "#   int idx = threadIdx.x + blockIdx.x*blockDim.x;\n",
        "#   int idy = threadIdx.y + blockIdx.y*blockDim.y;\n",
        "\n",
        "#   // Verifico que los Thread, esten dentro de las dimensiones de la imagen.\n",
        "#   if( idx < ancho && idy < alto )\n",
        "#   {\n",
        "#     // Invierto el color del pixel\n",
        "#         int red = 255 - img_O[PIXEL_ROJO(idx, idy)];\n",
        "#         int green = 255 - img_O[PIXEL_VERDE(idx, idy)];\n",
        "#         int blue = 255 - img_O[PIXEL_AZUL(idx, idy)];\n",
        "\n",
        "#     // Escribo el color invertido del pixel\n",
        "#         img_R[PIXEL_ROJO(idx, idy)] = red;\n",
        "#         img_R[PIXEL_VERDE(idx, idy)] = green;\n",
        "#         img_R[PIXEL_AZUL(idx, idy)] = blue;\n",
        "\n",
        "#   }\n",
        "# }\n",
        "# \"\"\")\n",
        "\n",
        "# -----------------------------------------------------------------------------\n",
        "kernel = module.get_function(\"kernel_img\")\n",
        "\n",
        "dim_hilo_x = 16\n",
        "dim_hilo_y = 19\n",
        "\n",
        "dim_hilo_x = 24\n",
        "dim_hilo_y = 24\n",
        "\n",
        "\n",
        "dim_hilo_x = 6\n",
        "dim_bloque_x = int( (img_ancho+dim_hilo_x-1) / dim_hilo_x )\n",
        "\n",
        "dim_hilo_y = 6\n",
        "dim_bloque_y = int( (img_alto+dim_hilo_y-1) / dim_hilo_y )\n",
        "\n",
        "# -----------------------------------------------------------------------------\n",
        "kernel( numpy.int32(img_ancho), numpy.int32(img_alto), img_O_gpu, img_R_gpu,\n",
        "        block=( dim_hilo_x, dim_hilo_y, 1 ),\n",
        "        grid=(dim_bloque_x, dim_bloque_y,1) )\n",
        "\n",
        "# -----------------------------------------------------------------------------\n",
        "cuda.memcpy_dtoh( img_R_cpu, img_R_gpu )\n",
        "\n",
        "img_O_gpu.free()\n",
        "img_R_gpu.free()\n",
        "\n",
        "# -----------------------------------------------------------------------------\n",
        "# Muestro los atributos de la imagen y como se ve antes del seudo filtro.\n",
        "print(\"Imagen del filtro: \", img_nombre , \" - tipo \" , image.mode , \"- [\" , img_ancho , \", \" , img_alto , \"]\" )\n",
        "# -----------------------------------------------------------------------------\n",
        "# Muestro los atributos de la imagen y como se ve antes del seudo filtro.\n",
        "print(\"Imagen del filtro: \", img_nombre , \" - tipo \" , image.mode , \"- [\" , img_ancho , \", \" , img_alto , \"]\" )\n",
        "print( \"Grilla : [\", dim_bloque_x, \",\", dim_bloque_y, \"], Bloques: [\", dim_hilo_x, \",\", dim_hilo_y, \" ] \"  )\n",
        "\n",
        "\n",
        "# -----------------------------------------------------------------------------\n",
        "# Muestro la imagen Original el filtro.\n",
        "plt.figure()\n",
        "imgplot=plt.imshow( img_O_cpu )\n",
        "\n",
        "# Muestro la imagen luego de aplicarle el filtro.\n",
        "plt.figure()\n",
        "imgplot=plt.imshow( img_R_cpu )"
      ],
      "metadata": {
        "id": "HamiiBb5tONo",
        "colab": {
          "base_uri": "https://localhost:8080/"
        },
        "outputId": "a9f3d4a6-4712-4f49-e83f-ed1e73ffa407"
      },
      "execution_count": null,
      "outputs": [
        {
          "output_type": "stream",
          "name": "stdout",
          "text": [
            "Overwriting filter_image.py\n"
          ]
        }
      ]
    },
    {
      "cell_type": "markdown",
      "source": [
        "####3.1 Ejecución y profiling del script\n",
        "Uitlizando nvprof se ejecuta el script y se miden los tiempos de ejecución."
      ],
      "metadata": {
        "id": "3NZdpZGYtYq_"
      }
    },
    {
      "cell_type": "code",
      "source": [
        "!nvprof python filter_image.py"
      ],
      "metadata": {
        "id": "HJIFTYIhteja",
        "colab": {
          "base_uri": "https://localhost:8080/"
        },
        "outputId": "38d03468-4468-44d3-a0da-bd7d5e30825c"
      },
      "execution_count": null,
      "outputs": [
        {
          "output_type": "stream",
          "name": "stdout",
          "text": [
            "==25270== NVPROF is profiling process 25270, command: python3 filter_image.py\n",
            "Imagen del filtro:  imagen.jpg  - tipo  RGB - [ 1024 ,  768 ]\n",
            "Imagen del filtro:  imagen.jpg  - tipo  RGB - [ 1024 ,  768 ]\n",
            "Grilla : [ 171 , 128 ], Bloques: [ 6 , 6  ] \n",
            "==25270== Profiling application: python3 filter_image.py\n",
            "==25270== Profiling result:\n",
            "            Type  Time(%)      Time     Calls       Avg       Min       Max  Name\n",
            " GPU activities:   64.69%  7.8513ms         1  7.8513ms  7.8513ms  7.8513ms  [CUDA memcpy DtoH]\n",
            "                   32.23%  3.9119ms         2  1.9559ms  1.9495ms  1.9624ms  [CUDA memcpy HtoD]\n",
            "                    3.07%  373.17us         1  373.17us  373.17us  373.17us  kernel_img\n",
            "      API calls:   72.70%  147.24ms         1  147.24ms  147.24ms  147.24ms  cuCtxCreate\n",
            "                   19.55%  39.599ms         1  39.599ms  39.599ms  39.599ms  cuCtxDetach\n",
            "                    4.94%  9.9972ms         1  9.9972ms  9.9972ms  9.9972ms  cuMemcpyDtoH\n",
            "                    2.13%  4.3199ms         2  2.1599ms  2.1342ms  2.1857ms  cuMemcpyHtoD\n",
            "                    0.35%  708.08us         2  354.04us  194.26us  513.82us  cuMemFree\n",
            "                    0.19%  392.18us         2  196.09us  151.52us  240.66us  cuMemAlloc\n",
            "                    0.07%  136.54us         1  136.54us  136.54us  136.54us  cuModuleLoadDataEx\n",
            "                    0.03%  60.771us         1  60.771us  60.771us  60.771us  cuModuleUnload\n",
            "                    0.02%  36.940us         1  36.940us  36.940us  36.940us  cuLaunchKernel\n",
            "                    0.00%  9.0180us         1  9.0180us  9.0180us  9.0180us  cuDeviceGetPCIBusId\n",
            "                    0.00%  6.0290us         1  6.0290us  6.0290us  6.0290us  cuModuleGetFunction\n",
            "                    0.00%  5.2590us         2  2.6290us     571ns  4.6880us  cuCtxPopCurrent\n",
            "                    0.00%  4.5820us         2  2.2910us     326ns  4.2560us  cuCtxPushCurrent\n",
            "                    0.00%  4.2840us         3  1.4280us     417ns  2.1740us  cuDeviceGetCount\n",
            "                    0.00%  2.5820us         3     860ns     487ns  1.6010us  cuDeviceGetAttribute\n",
            "                    0.00%  2.1840us         2  1.0920us  1.0300us  1.1540us  cuCtxGetDevice\n",
            "                    0.00%  1.4850us         2     742ns     639ns     846ns  cuDeviceGet\n",
            "                    0.00%  1.2570us         1  1.2570us  1.2570us  1.2570us  cuFuncSetBlockShape\n",
            "                    0.00%  1.1150us         1  1.1150us  1.1150us  1.1150us  cuDeviceComputeCapability\n"
          ]
        }
      ]
    }
  ]
}